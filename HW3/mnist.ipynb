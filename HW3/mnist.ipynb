{
 "cells": [
  {
   "cell_type": "code",
   "execution_count": 2,
   "metadata": {},
   "outputs": [
    {
     "name": "stdout",
     "output_type": "stream",
     "text": [
      "[0 1 2 ... 8 9 8]\n"
     ]
    },
    {
     "data": {
      "application/vnd.jupyter.widget-view+json": {
       "model_id": "96071266dddc4480af73a6638e8f43ed",
       "version_major": 2,
       "version_minor": 0
      },
      "text/plain": [
       "HBox(children=(FloatProgress(value=0.0, description='Optimization Progress', max=120.0, style=ProgressStyle(de…"
      ]
     },
     "metadata": {},
     "output_type": "display_data"
    },
    {
     "name": "stdout",
     "output_type": "stream",
     "text": [
      "Generation 1 - Current best internal CV score: 0.9762412226352748\n",
      "Generation 2 - Current best internal CV score: 0.9762412226352748\n",
      "Generation 3 - Current best internal CV score: 0.9777282114828584\n",
      "Generation 4 - Current best internal CV score: 0.9836706595070908\n",
      "Generation 5 - Current best internal CV score: 0.9844086465647803\n",
      "\n",
      "Best pipeline: KNeighborsClassifier(PCA(BernoulliNB(OneHotEncoder(input_matrix, minimum_fraction=0.1, sparse=False, threshold=10), alpha=0.1, fit_prior=True), iterated_power=2, svd_solver=randomized), n_neighbors=14, p=1, weights=distance)\n",
      "0.9644444444444444\n"
     ]
    }
   ],
   "source": [
    "# 使用TPOT自动机器学习工具对MNIST进行分类\n",
    "from tpot import TPOTClassifier\n",
    "from sklearn.datasets import load_digits\n",
    "from sklearn.model_selection import train_test_split\n",
    "import numpy as np\n",
    "\n",
    "# 加载数据\n",
    "digits = load_digits()\n",
    "data = digits.data\n",
    "print(digits.target)\n",
    "X_train, X_test, y_train, y_test = train_test_split(digits.data.astype(np.float64),\n",
    "    digits.target.astype(np.float64), train_size=0.75, test_size=0.25)\n",
    "\n",
    "tpot = TPOTClassifier(generations=5, population_size=20, verbosity=2)\n",
    "tpot.fit(X_train, y_train)\n",
    "print(tpot.score(X_test, y_test))\n",
    "tpot.export('tpot_mnist_pipeline.py')"
   ]
  },
  {
   "cell_type": "code",
   "execution_count": 3,
   "metadata": {},
   "outputs": [
    {
     "name": "stdout",
     "output_type": "stream",
     "text": [
      "(1797, 64)\n",
      "[[ 0.  0.  5. 13.  9.  1.  0.  0.]\n",
      " [ 0.  0. 13. 15. 10. 15.  5.  0.]\n",
      " [ 0.  3. 15.  2.  0. 11.  8.  0.]\n",
      " [ 0.  4. 12.  0.  0.  8.  8.  0.]\n",
      " [ 0.  5.  8.  0.  0.  9.  8.  0.]\n",
      " [ 0.  4. 11.  0.  1. 12.  7.  0.]\n",
      " [ 0.  2. 14.  5. 10. 12.  0.  0.]\n",
      " [ 0.  0.  6. 13. 10.  0.  0.  0.]]\n",
      "0\n",
      "LR准确率: 0.9600\n",
      "CART决策树准确率: 0.8422\n",
      "LDA准确率: 0.9378\n",
      "BernoulliNB准确率: 0.8822\n",
      "SVM准确率: 0.9867\n",
      "KNN准确率: 0.9756\n",
      "AdaBoost准确率: 0.9644\n",
      "XGBoost准确率: 0.9489\n"
     ]
    }
   ],
   "source": [
    "# -*- coding: utf-8 -*-\n",
    "# 使用多种分类器进行MNIST手写数字分类\n",
    "from sklearn.model_selection import train_test_split\n",
    "from sklearn import preprocessing\n",
    "from sklearn.metrics import accuracy_score\n",
    "from sklearn.datasets import load_digits\n",
    "from sklearn import svm #SVM\n",
    "from sklearn.linear_model import LogisticRegression #逻辑回归\n",
    "from sklearn.tree import DecisionTreeClassifier #决策树\n",
    "from sklearn.naive_bayes import BernoulliNB #高斯朴素贝叶斯 GaussianNB/MultinomialNB/BernoulliNB\n",
    "from sklearn.neighbors import KNeighborsClassifier #KNN\n",
    "from sklearn.ensemble import  AdaBoostClassifier #AdaBoost\n",
    "from xgboost import XGBClassifier #XGBoost\n",
    "from sklearn.discriminant_analysis import LinearDiscriminantAnalysis  \n",
    "import matplotlib.pyplot as plt\n",
    "\n",
    "# 加载数据\n",
    "digits = load_digits()\n",
    "data = digits.data\n",
    "# 数据探索\n",
    "print(data.shape)\n",
    "# 查看第一幅图像\n",
    "print(digits.images[0])\n",
    "# 第一幅图像代表的数字含义\n",
    "print(digits.target[0])\n",
    "# 将第一幅图像显示出来\n",
    "\"\"\"\n",
    "plt.gray()\n",
    "plt.imshow(digits.images[0])\n",
    "plt.show()\n",
    "\"\"\"\n",
    "\n",
    "# 分割数据，将25%的数据作为测试集，其余作为训练集\n",
    "train_x, test_x, train_y, test_y = train_test_split(data, digits.target, test_size=0.25, random_state=33)\n",
    "\n",
    "# 采用Z-Score规范化\n",
    "ss = preprocessing.StandardScaler()\n",
    "train_ss_x = ss.fit_transform(train_x)\n",
    "test_ss_x = ss.transform(test_x)\n",
    "\n",
    "# 创建LR分类器\n",
    "lr = LogisticRegression(solver='liblinear', multi_class='auto') #数据集比较小，使用liblinear，数据集大使用 sag或者saga\n",
    "lr.fit(train_ss_x, train_y)\n",
    "predict_y=lr.predict(test_ss_x)\n",
    "print('LR准确率: %0.4lf' % accuracy_score(predict_y, test_y))\n",
    "\n",
    "# 创建线性 CART决策树分类器\n",
    "model = DecisionTreeClassifier()\n",
    "model.fit(train_ss_x,train_y)\n",
    "predict_y=model.predict(test_ss_x)\n",
    "print('CART决策树准确率: %0.4lf' %accuracy_score(predict_y,test_y))\n",
    "\n",
    "# 创建LDA分类器\n",
    "model = LinearDiscriminantAnalysis(n_components=2)\n",
    "model.fit(train_ss_x,train_y)\n",
    "predict_y=model.predict(test_ss_x)\n",
    "print('LDA准确率: %0.4lf' %accuracy_score(predict_y,test_y))\n",
    "\n",
    "# 创建贝叶斯分类器\n",
    "model = BernoulliNB()\n",
    "model.fit(train_ss_x,train_y)\n",
    "predict_y=model.predict(test_ss_x)\n",
    "print('BernoulliNB准确率: %0.4lf' %accuracy_score(predict_y,test_y))\n",
    "\n",
    "# 创建SVM分类器\n",
    "model = svm.SVC(kernel='rbf', C=1.0, gamma='auto')\n",
    "model.fit(train_ss_x,train_y)\n",
    "predict_y=model.predict(test_ss_x)\n",
    "print('SVM准确率: %0.4lf' %accuracy_score(predict_y,test_y))\n",
    "\n",
    "# 创建KNN分类器\n",
    "model = KNeighborsClassifier()\n",
    "model.fit(train_ss_x,train_y)\n",
    "predict_y=model.predict(test_ss_x)\n",
    "print('KNN准确率: %0.4lf' %accuracy_score(predict_y,test_y))\n",
    "\n",
    "# 创建AdaBoost分类器\n",
    "# 弱分类器\n",
    "dt_stump = DecisionTreeClassifier(max_depth=5,min_samples_leaf=1)\n",
    "dt_stump.fit(train_ss_x, train_y)\n",
    "#dt_stump_err = 1.0-dt_stump.score(test_x, test_y)\n",
    "# 设置AdaBoost迭代次数\n",
    "n_estimators=500\n",
    "model = AdaBoostClassifier(base_estimator=dt_stump,n_estimators=n_estimators)\n",
    "model.fit(train_ss_x,train_y)\n",
    "predict_y=model.predict(test_ss_x)\n",
    "print('AdaBoost准确率: %0.4lf' %accuracy_score(predict_y,test_y))\n",
    "\n",
    "# 创建XGBoost分类器\n",
    "model = XGBClassifier()\n",
    "model.fit(train_ss_x,train_y)\n",
    "predict_y=model.predict(test_ss_x)\n",
    "print('XGBoost准确率: %0.4lf' %accuracy_score(predict_y,test_y))"
   ]
  }
 ],
 "metadata": {
  "kernelspec": {
   "display_name": "Python 3",
   "language": "python",
   "name": "python3"
  },
  "language_info": {
   "codemirror_mode": {
    "name": "ipython",
    "version": 3
   },
   "file_extension": ".py",
   "mimetype": "text/x-python",
   "name": "python",
   "nbconvert_exporter": "python",
   "pygments_lexer": "ipython3",
   "version": "3.6.8"
  }
 },
 "nbformat": 4,
 "nbformat_minor": 4
}
