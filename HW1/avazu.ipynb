{
 "cells": [
  {
   "cell_type": "code",
   "execution_count": 10,
   "metadata": {},
   "outputs": [
    {
     "name": "stdout",
     "output_type": "stream",
     "text": [
      "loading data...\n",
      "sample saved\n"
     ]
    }
   ],
   "source": [
    "#数据预处理\n",
    "import pandas as pd\n",
    "import numpy as np\n",
    "import matplotlib.pyplot as plt\n",
    "import sklearn\n",
    "from sklearn.preprocessing import LabelEncoder\n",
    "from dummyPy import OneHotEncoder\n",
    "import random\n",
    "import pickle  # 存储临时变量\n",
    "\n",
    "## 读文件\n",
    "file_path = ''\n",
    "train_file = file_path + 'train'\n",
    "test_file  = file_path + 'test'\n",
    "col_counts_file = file_path + 'col_counts'\n",
    "\n",
    "## 存储标签编码和one-hot编码\n",
    "fp_lb_enc = file_path + 'lb_enc'\n",
    "fp_oh_enc = file_path + 'oh_enc'\n",
    "\n",
    "##==================== 数据预处理 ====================##\n",
    "# 包括id, click的feature\n",
    "cols = ['hour', 'C1', 'banner_pos', 'site_id', 'site_domain', 'site_category', 'app_id', 'app_domain', 'app_category', 'device_id', 'device_ip', 'device_model', 'device_type', 'device_conn_type', 'C14', 'C15', 'C16', 'C17', 'C18', 'C19', 'C20', 'C21']\n",
    "# 非features字段\n",
    "cols_train = ['id', 'click']\n",
    "cols_test  = ['id']\n",
    "cols_train.extend(cols)\n",
    "cols_test.extend(cols)\n",
    "\n",
    "## 数据加载\n",
    "print('loading data...')\n",
    "# 只读10行\n",
    "df_train_sample = pd.read_csv(train_file, nrows = 10, encoding = 'utf-8')\n",
    "#print(df_train_sample)\n",
    "\n",
    "# sample前10000行数据\n",
    "df_train_org = pd.read_csv(train_file, nrows=10000, encoding = 'utf-8')\n",
    "df_test_org  = pd.read_csv(test_file, nrows=10000, encoding = 'utf-8')\n",
    "df_train_org.to_csv('train_sample.csv', index=False)\n",
    "df_test_org.to_csv('test_sample.csv', index=False)\n",
    "print('sample saved')"
   ]
  },
  {
   "cell_type": "code",
   "execution_count": 13,
   "metadata": {},
   "outputs": [
    {
     "name": "stdout",
     "output_type": "stream",
     "text": [
      "loading data...\n"
     ]
    },
    {
     "name": "stderr",
     "output_type": "stream",
     "text": [
      "/usr/local/lib/python3.6/site-packages/ipykernel_launcher.py:71: FutureWarning: The 'get_values' method is deprecated and will be removed in a future version. Use '.to_numpy()' or '.array' instead.\n"
     ]
    },
    {
     "data": {
      "image/png": "[encoded data removed]",
      "text/plain": [
       "<Figure size 432x288 with 22 Axes>"
      ]
     },
     "metadata": {
      "needs_background": "light"
     },
     "output_type": "display_data"
    },
    {
     "name": "stdout",
     "output_type": "stream",
     "text": [
      "label_encoder saved\n",
      "onehot_encoder saved\n"
     ]
    }
   ],
   "source": [
    "#数据预处理\n",
    "import pandas as pd\n",
    "import numpy as np\n",
    "import matplotlib.pyplot as plt\n",
    "import sklearn\n",
    "from sklearn.preprocessing import LabelEncoder\n",
    "from dummyPy import OneHotEncoder\n",
    "import random\n",
    "import pickle  # 存储临时变量\n",
    "\n",
    "## 读文件\n",
    "file_path = ''\n",
    "train_file = file_path + 'train_sample.csv'\n",
    "test_file  = file_path + 'test_sample.csv'\n",
    "\n",
    "## 下采样写文件\n",
    "col_counts_file = file_path + 'col_counts'\n",
    "\n",
    "## 存储标签编码和one-hot编码\n",
    "label_encoder_file = file_path + 'label_encoder'\n",
    "onehot_encoder_file = file_path + 'onehot_encoder'\n",
    "\n",
    "##==================== 数据预处理 ====================##\n",
    "# 包括id, click的feature\n",
    "cols = ['hour', 'C1', 'banner_pos', 'site_id', 'site_domain', 'site_category', 'app_id', 'app_domain', 'app_category', 'device_id', 'device_ip', 'device_model', 'device_type', 'device_conn_type', 'C14', 'C15', 'C16', 'C17', 'C18', 'C19', 'C20', 'C21']\n",
    "# 非features字段\n",
    "cols_train = ['id', 'click']\n",
    "cols_test  = ['id']\n",
    "cols_train.extend(cols)\n",
    "cols_test.extend(cols)\n",
    "\n",
    "## 数据加载\n",
    "print('loading data...')\n",
    "# 只读10行\n",
    "df_train_sample = pd.read_csv(train_file, nrows = 10)\n",
    "#print(df_train_sample)\n",
    "\n",
    "# 可以分块处理文件\n",
    "df_train_org = pd.read_csv(train_file, chunksize = 10000000, iterator = True)\n",
    "df_test_org  = pd.read_csv(test_file,  chunksize = 10000000, iterator = True)\n",
    "\n",
    "#----- 统计字典 不同值个数 -----#\n",
    "##  统计sample中的字段 不同值个数\n",
    "cols_counts = {} \n",
    "for col in cols:\n",
    "    cols_counts[col] = df_train_sample[col].value_counts()\n",
    "#print(cols_counts)\n",
    "## 统计训练集中的字段 不同值个数\n",
    "for chunk in df_train_org:\n",
    "    for col in cols:\n",
    "        cols_counts[col] = cols_counts[col].append(chunk[col].value_counts())\n",
    "## 统计测试集中的字段 不同值个数\n",
    "for chunk in df_test_org:\n",
    "    for col in cols:\n",
    "        cols_counts[col] = cols_counts[col].append(chunk[col].value_counts())\n",
    "## 统计\n",
    "for col in cols:\n",
    "    cols_counts[col] = cols_counts[col].groupby(cols_counts[col].index).sum()\n",
    "    # 排序\n",
    "    cols_counts[col] = cols_counts[col].sort_values(ascending=False)   \n",
    "## 存储value_counts\n",
    "pickle.dump(cols_counts, open(col_counts_file, 'wb'))\n",
    "#print(cols_counts)\n",
    "\n",
    "\n",
    "## 绘制分布\n",
    "fig = plt.figure(1)\n",
    "for i, col in enumerate(cols):\n",
    "    # 一共22个feature，放到11*2个figure里\n",
    "    ax = fig.add_subplot(11, 2, i+1)\n",
    "    ax.fill_between(np.arange(len(cols_counts[col])), cols_counts[col].get_values())\n",
    "    # ax.set_title(col)\n",
    "plt.show()\n",
    "\n",
    "## 每个字段，只保存前k个字段值\n",
    "k = 100\n",
    "col_index = {}\n",
    "for col in cols:\n",
    "    col_index[col] = cols_counts[col][0: k-1].index\n",
    "    #print(col, col_index[col])\n",
    "\n",
    "## 对分类变量进行标签编码\n",
    "lb_enc = {}\n",
    "for col in cols:\n",
    "    # 超过前100个value，设置为other\n",
    "    col_index[col] = np.append(col_index[col], 'other')\n",
    "\n",
    "for col in cols:\n",
    "    lb_enc[col] = LabelEncoder()\n",
    "    lb_enc[col].fit(col_index[col])\n",
    "    \n",
    "## 存储标签编码\n",
    "pickle.dump(lb_enc, open(label_encoder_file, 'wb'))\n",
    "print(label_encoder_file + ' saved')\n",
    "## one-hot编码\n",
    "oh_enc = OneHotEncoder(cols)\n",
    "\n",
    "for chunk in df_train_org:\n",
    "    oh_enc.fit(chunk)\n",
    "for chunk in df_test_org:\n",
    "    oh_enc.fit(chunk)\n",
    "\n",
    "## 存储one-hot编码\n",
    "pickle.dump(oh_enc, open(onehot_encoder_file, 'wb'))\n",
    "print(onehot_encoder_file + ' saved')"
   ]
  },
  {
   "cell_type": "code",
   "execution_count": 15,
   "metadata": {},
   "outputs": [
    {
     "name": "stdout",
     "output_type": "stream",
     "text": [
      "onehot_encoder\n",
      "LR model saved\n",
      "[]\n"
     ]
    },
    {
     "data": {
      "image/png": "[encoded data removed]",
      "text/plain": [
       "<Figure size 432x288 with 1 Axes>"
      ]
     },
     "metadata": {
      "needs_background": "light"
     },
     "output_type": "display_data"
    },
    {
     "data": {
      "text/plain": [
       "2508"
      ]
     },
     "execution_count": 15,
     "metadata": {},
     "output_type": "execute_result"
    }
   ],
   "source": [
    "# 使用LR模型对Avazu CTR进行预估\n",
    "import pandas as pd\n",
    "import numpy as np\n",
    "from dummyPy import OneHotEncoder  # 超大规模数据one-hot编码\n",
    "from sklearn.linear_model import SGDClassifier  # 梯度下降分类\n",
    "from sklearn.metrics import log_loss\n",
    "import matplotlib.pyplot as plt \n",
    "import pickle\n",
    "\n",
    "##==================== 设置文件路径File-Path (fp) ====================##\n",
    "file_path = ''\n",
    "train_file = file_path + \"train_sample.csv\"\n",
    "test_file  = file_path + \"test_sample.csv\"\n",
    "\n",
    "# one-hot编码保存\n",
    "onehot_encoder_file = file_path + \"onehot_encoder\"\n",
    "# LR模型保存\n",
    "lr_model_file = file_path + \"lr/lr_model\"\n",
    "# submission文件保存\n",
    "submission_file = file_path + \"lr/LR_submission.csv\"\n",
    "\n",
    "##==================== LR 训练 ====================##\n",
    "print(onehot_encoder_file)\n",
    "onehot_encoder = pickle.load(open(onehot_encoder_file, 'rb'))\n",
    "\n",
    "# 一个chunk块为5万行\n",
    "chunksize = 50000\n",
    "df_train = pd.read_csv(train_file, dtype={'id':str}, index_col=None, chunksize=chunksize, iterator=True)\n",
    "\n",
    "# 使用LogLoss作为LR的损失函数\n",
    "lr_model = SGDClassifier(loss='log')  \n",
    "scores = []\n",
    "\n",
    "# 使用k和i调整训练规模，训练样本 = 所有样本 / k\n",
    "k = 100  \n",
    "i = 1\n",
    "for chunk in df_train:\n",
    "    # 根据K drop掉样本\n",
    "    if i < k: \n",
    "        i += 1\n",
    "        continue\n",
    "    print('training...')\n",
    "    i = 1\n",
    "    df_train_chunk = oh_enc.transform(chunk)\n",
    "    # LR训练\n",
    "    feature_train = df_train_chunk.columns.drop(['id', 'click'])\n",
    "    train_X = df_train_chunk[feature_train]\n",
    "    train_y = df_train_chunk['click'].astype('int')\n",
    "    lr_model.partial_fit(train_X, train_y, classes = [0,1])  # fitting\n",
    "    \n",
    "    # 训练结果logloss分数\n",
    "    y_pred = lr_model.predict_proba(train_X)[:, 1]\n",
    "    score = log_loss(train_y, y_pred)\n",
    "    scores.append(score)\n",
    "\n",
    "## 存储训练好的LR模型\n",
    "pickle.dump(lr_model, open(lr_model_file, 'wb'))\n",
    "print('LR model saved')\n",
    "\n",
    "print(scores)\n",
    "#scores = [0.1, 0.2, 0.3, 0.4]\n",
    "## 绘制LR训练分数曲线\n",
    "#f1 = plt.figure(1)\n",
    "plt.title(\"LR Training Curve\") \n",
    "plt.plot(scores)\n",
    "plt.xlabel('iterations')\n",
    "plt.ylabel('log_loss')\n",
    "plt.title('log_loss of training')\n",
    "plt.grid()\n",
    "plt.show()\n",
    "\n",
    "import gc\n",
    "del lr_model\n",
    "del df_train\n",
    "gc.collect()"
   ]
  },
  {
   "cell_type": "code",
   "execution_count": 16,
   "metadata": {},
   "outputs": [
    {
     "name": "stdout",
     "output_type": "stream",
     "text": [
      "                     id  click      hour    C1  banner_pos   site_id  \\\n",
      "0   1000009418151094273      0  14102100  1005           0  1fbe01fe   \n",
      "1  10000169349117863715      0  14102100  1005           0  1fbe01fe   \n",
      "2  10000371904215119486      0  14102100  1005           0  1fbe01fe   \n",
      "3  10000640724480838376      0  14102100  1005           0  1fbe01fe   \n",
      "4  10000679056417042096      0  14102100  1005           1  fe8cc448   \n",
      "\n",
      "  site_domain site_category    app_id app_domain  ... device_type  \\\n",
      "0    f3845767      28905ebd  ecad2386   7801e8d9  ...           1   \n",
      "1    f3845767      28905ebd  ecad2386   7801e8d9  ...           1   \n",
      "2    f3845767      28905ebd  ecad2386   7801e8d9  ...           1   \n",
      "3    f3845767      28905ebd  ecad2386   7801e8d9  ...           1   \n",
      "4    9166c161      0569f928  ecad2386   7801e8d9  ...           1   \n",
      "\n",
      "  device_conn_type    C14  C15  C16   C17  C18  C19     C20  C21  \n",
      "0                2  15706  320   50  1722    0   35      -1   79  \n",
      "1                0  15704  320   50  1722    0   35  100084   79  \n",
      "2                0  15704  320   50  1722    0   35  100084   79  \n",
      "3                0  15706  320   50  1722    0   35  100084   79  \n",
      "4                0  18993  320   50  2161    0   35      -1  157  \n",
      "\n",
      "[5 rows x 24 columns]\n",
      "Index(['id', 'click', 'hour', 'C1', 'banner_pos', 'site_id', 'site_domain',\n",
      "       'site_category', 'app_id', 'app_domain', 'app_category', 'device_id',\n",
      "       'device_ip', 'device_model', 'device_type', 'device_conn_type', 'C14',\n",
      "       'C15', 'C16', 'C17', 'C18', 'C19', 'C20', 'C21'],\n",
      "      dtype='object')\n",
      "0    8294\n",
      "1    1706\n",
      "Name: click, dtype: int64\n",
      "['hour', 'C1', 'banner_pos', 'site_id', 'site_domain', 'site_category', 'app_id', 'app_domain', 'app_category', 'device_id', 'device_ip', 'device_model', 'device_type', 'device_conn_type', 'C14', 'C15', 'C16', 'C17', 'C18', 'C19', 'C20', 'C21']\n"
     ]
    },
    {
     "name": "stderr",
     "output_type": "stream",
     "text": [
      "/usr/local/lib/python3.6/site-packages/lightgbm/basic.py:1295: UserWarning: categorical_feature in Dataset is overridden.\n",
      "New categorical_feature is ['C1', 'C14', 'C15', 'C16', 'C17', 'C18', 'C19', 'C20', 'C21', 'app_category', 'app_domain', 'app_id', 'banner_pos', 'device_conn_type', 'device_id', 'device_ip', 'device_model', 'device_type', 'hour', 'site_category', 'site_domain', 'site_id']\n",
      "  'New categorical_feature is {}'.format(sorted(list(categorical_feature))))\n"
     ]
    },
    {
     "name": "stdout",
     "output_type": "stream",
     "text": [
      "0.43370826163455445\n"
     ]
    }
   ],
   "source": [
    "import pandas as pd\n",
    "import numpy as np\n",
    "\n",
    "file_path = 'train_sample.csv'\n",
    "data = pd.read_csv(file_path,nrows =300000)\n",
    "print(data.head())\n",
    "print(data.columns)\n",
    "print(data['click'].value_counts())\n",
    "\n",
    "data = data.drop(['id'], axis=1)\n",
    "pd.factorize(data['site_id'])[0]\n",
    "\n",
    "for fea in data.drop('click', axis=1).columns:\n",
    "    data[fea] = pd.factorize(data[fea])[0]\n",
    "\n",
    "from sklearn.model_selection import train_test_split\n",
    "train, test = train_test_split(data, test_size=0.2)\n",
    "\n",
    "import lightgbm as lgb\n",
    "clf = lgb.LGBMClassifier(is_unbalanced=False, slient=False)\n",
    "cal = list(train.drop('click', axis=1).columns)\n",
    "print(cal)\n",
    "\n",
    "clf.fit(train.drop('click', axis=1), train['click'], categorical_feature=cal, verbose=5)\n",
    "predict = clf.predict_proba(test.drop('click', axis=1))[:, 1]\n",
    "\n",
    "def celoss(target, predict):\n",
    "    target = np.array(target)\n",
    "    predict = np.array(predict)\n",
    "    return -(target * np.log(predict) + (1 - target) * np.log(1 - predict)).mean()\n",
    "\n",
    "print(celoss(test['click'], predict))"
   ]
  },
  {
   "cell_type": "code",
   "execution_count": null,
   "metadata": {},
   "outputs": [],
   "source": []
  }
 ],
 "metadata": {
  "kernelspec": {
   "display_name": "Python 3",
   "language": "python",
   "name": "python3"
  },
  "language_info": {
   "codemirror_mode": {
    "name": "ipython",
    "version": 3
   },
   "file_extension": ".py",
   "mimetype": "text/x-python",
   "name": "python",
   "nbconvert_exporter": "python",
   "pygments_lexer": "ipython3",
   "version": "3.6.8"
  }
 },
 "nbformat": 4,
 "nbformat_minor": 4
}
