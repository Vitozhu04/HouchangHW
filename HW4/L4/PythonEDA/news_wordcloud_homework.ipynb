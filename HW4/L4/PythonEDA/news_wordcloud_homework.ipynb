{
 "cells": [
  {
   "cell_type": "code",
   "execution_count": 16,
   "metadata": {},
   "outputs": [],
   "source": [
    "from wordcloud import WordCloud\n",
    "import pandas as pd\n",
    "import matplotlib.pyplot as plt\n",
    "from PIL import Image, ImageFont, ImageDraw\n",
    "import numpy as np\n",
    "import jieba"
   ]
  },
  {
   "cell_type": "code",
   "execution_count": 17,
   "metadata": {},
   "outputs": [],
   "source": [
    "# 去掉停用词\n",
    "def remove_stop_words(f):\n",
    "\tstop_words = ['一个', '公司']\n",
    "\tfor stop_word in stop_words:\n",
    "\t\tf = f.replace(stop_word, '')\n",
    "\treturn f\n",
    "\n",
    "# 生成词云\n",
    "def create_word_cloud(f):\n",
    "    print('根据词频，开始生成词云！')\n",
    "    f = remove_stop_words(f)\n",
    "    cut_text = jieba.cut(f)\n",
    "    print(cut_text)\n",
    "    cut_text = ' '.join(cut_text)\n",
    "    wc = WordCloud(\n",
    "        font_path = \"simhei.ttf\",\n",
    "        max_words = 100,\n",
    "        width = 3000,\n",
    "        height = 2200,\n",
    "    )\n",
    "    wordcloud = wc.generate(cut_text)\n",
    "    # 写词云图片\n",
    "    wordcloud.to_file(\"worldcloud.jpg\")\n",
    "    # 显示词云文件\n",
    "    plt.imshow(wordcloud)"
   ]
  },
  {
   "cell_type": "code",
   "execution_count": 19,
   "metadata": {},
   "outputs": [],
   "source": [
    "# 数据加载\n",
    "with open('news.txt', encoding = 'utf-8', mode = 'r') as file:\n",
    "    data = file.read().replace('\\n', '')\n",
    "\n",
    "# 生成词云\n",
    "create_word_cloud(text)"
   ]
  },
  {
   "cell_type": "code",
   "execution_count": null,
   "metadata": {},
   "outputs": [],
   "source": []
  }
 ],
 "metadata": {
  "kernelspec": {
   "display_name": "Python 3",
   "language": "python",
   "name": "python3"
  },
  "language_info": {
   "codemirror_mode": {
    "name": "ipython",
    "version": 3
   },
   "file_extension": ".py",
   "mimetype": "text/x-python",
   "name": "python",
   "nbconvert_exporter": "python",
   "pygments_lexer": "ipython3",
   "version": "3.6.8"
  }
 },
 "nbformat": 4,
 "nbformat_minor": 4
}
