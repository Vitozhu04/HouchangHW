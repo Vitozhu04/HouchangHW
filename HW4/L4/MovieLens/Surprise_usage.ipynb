{
 "cells": [
  {
   "cell_type": "code",
   "execution_count": 2,
   "metadata": {},
   "outputs": [],
   "source": [
    "#from surprise import SVD\n",
    "from surprise import Dataset\n",
    "from surprise import Reader\n",
    "from surprise import BaselineOnly, KNNBasic, NormalPredictor\n",
    "from surprise import accuracy\n",
    "from surprise.model_selection import KFold"
   ]
  },
  {
   "cell_type": "code",
   "execution_count": 3,
   "metadata": {},
   "outputs": [],
   "source": [
    "# 数据读取\n",
    "reader = Reader(line_format='user item rating timestamp', sep=',', skip_lines=1)\n",
    "data = Dataset.load_from_file('./ratings.csv', reader=reader)\n",
    "train_set = data.build_full_trainset()"
   ]
  },
  {
   "cell_type": "code",
   "execution_count": 7,
   "metadata": {},
   "outputs": [
    {
     "name": "stdout",
     "output_type": "stream",
     "text": [
      "Estimating biases using als...\n",
      "RMSE: 0.8641\n",
      "Estimating biases using als...\n",
      "RMSE: 0.8629\n",
      "Estimating biases using als...\n",
      "RMSE: 0.8648\n",
      "user: 196        item: 302        r_ui = 4.00   est = 3.98   {'was_impossible': False}\n"
     ]
    }
   ],
   "source": [
    "# ALS优化\n",
    "bsl_options = {'method': 'als','n_epochs': 5,'reg_u': 12,'reg_i': 5}\n",
    "# SGD优化\n",
    "#bsl_options = {'method': 'sgd','n_epochs': 5}\n",
    "algo = BaselineOnly(bsl_options=bsl_options)\n",
    "#algo = BaselineOnly()\n",
    "#algo = NormalPredictor()\n",
    "\n",
    "# 定义K折交叉验证迭代器，K=3\n",
    "kf = KFold(n_splits=3)\n",
    "for trainset, testset in kf.split(data):\n",
    "    # 训练并预测\n",
    "    algo.fit(trainset)\n",
    "    predictions = algo.test(testset)\n",
    "    # 计算RMSE\n",
    "    accuracy.rmse(predictions, verbose=True)\n",
    "\n",
    "uid = str(196)\n",
    "iid = str(302)\n",
    "# 输出uid对iid的预测结果\n",
    "pred = algo.predict(uid, iid, r_ui=4, verbose=True)"
   ]
  },
  {
   "cell_type": "code",
   "execution_count": 9,
   "metadata": {},
   "outputs": [],
   "source": [
    "from surprise import SVDpp\n",
    "from surprise import SVD\n",
    "\n",
    "algos = [SVD(biased=False), SVD(biased=True), SVDpp()]\n",
    "algo_names = ['funkSVD', 'BiasSVD', 'SVD++']"
   ]
  },
  {
   "cell_type": "code",
   "execution_count": null,
   "metadata": {},
   "outputs": [
    {
     "name": "stdout",
     "output_type": "stream",
     "text": [
      "Using funkSVD\n",
      "RMSE: 0.8741\n",
      "Using funkSVD\n",
      "RMSE: 0.8722\n",
      "Using funkSVD\n",
      "RMSE: 0.8713\n",
      "user: 196        item: 302        r_ui = 4.00   est = 4.32   {'was_impossible': False}\n",
      "Using BiasSVD\n",
      "RMSE: 0.8445\n",
      "Using BiasSVD\n",
      "RMSE: 0.8454\n",
      "Using BiasSVD\n",
      "RMSE: 0.8449\n",
      "user: 196        item: 302        r_ui = 4.00   est = 3.93   {'was_impossible': False}\n",
      "Using SVD++\n",
      "RMSE: 0.8326\n"
     ]
    }
   ],
   "source": [
    "# 定义K折交叉验证迭代器，K=3\n",
    "for i, algo in enumerate(algos):\n",
    "    kf = KFold(n_splits=3)\n",
    "    for trainset, testset in kf.split(data):\n",
    "        # 训练并预测\n",
    "        algo.fit(trainset)\n",
    "        predictions = algo.test(testset)\n",
    "        # 计算RMSE\n",
    "        print('Using ' + str(algo_names[i]))\n",
    "        accuracy.rmse(predictions, verbose=True)\n",
    "\n",
    "    uid = str(196)\n",
    "    iid = str(302)\n",
    "    # 输出uid对iid的预测结果\n",
    "    pred = algo.predict(uid, iid, r_ui=4, verbose=True)"
   ]
  },
  {
   "cell_type": "code",
   "execution_count": null,
   "metadata": {},
   "outputs": [],
   "source": []
  }
 ],
 "metadata": {
  "kernelspec": {
   "display_name": "Python 3",
   "language": "python",
   "name": "python3"
  },
  "language_info": {
   "codemirror_mode": {
    "name": "ipython",
    "version": 3
   },
   "file_extension": ".py",
   "mimetype": "text/x-python",
   "name": "python",
   "nbconvert_exporter": "python",
   "pygments_lexer": "ipython3",
   "version": "3.6.8"
  }
 },
 "nbformat": 4,
 "nbformat_minor": 4
}
